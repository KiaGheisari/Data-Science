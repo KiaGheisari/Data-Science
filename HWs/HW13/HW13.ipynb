{
 "cells": [
  {
   "cell_type": "markdown",
   "metadata": {},
   "source": [
    "### HW13 PipeLine & Explainable AI\n",
    "### Kiarash Gheisari Pour - 402102302"
   ]
  },
  {
   "cell_type": "markdown",
   "metadata": {},
   "source": [
    "we'll use the dermatology dataset"
   ]
  },
  {
   "cell_type": "code",
   "execution_count": 1,
   "metadata": {},
   "outputs": [],
   "source": [
    "import numpy as np\n",
    "import pandas as pd\n",
    "import matplotlib.pyplot as plt"
   ]
  },
  {
   "cell_type": "markdown",
   "metadata": {},
   "source": [
    "### DATALOADING Pipeline"
   ]
  },
  {
   "cell_type": "code",
   "execution_count": 3,
   "metadata": {},
   "outputs": [],
   "source": [
    "import pandas as pd\n",
    "import numpy as np\n",
    "\n",
    "def load_and_clean_dermatology_data(filepath='dermatology.data'):\n",
    "    columns = [\n",
    "        \"erythema\", \"scaling\", \"definite_borders\", \"itching\", \"koebner_phenomenon\", \"polygonal_papules\",\n",
    "        \"follicular_papules\", \"oral_mucosal_involvement\", \"knee_and_elbow_involvement\", \"scalp_involvement\",\n",
    "        \"family_history\", \"melanin_incontinence\", \"eosinophils_in_the_infiltrate\", \"PNL_infiltrate\",\n",
    "        \"fibrosis_of_the_papillary_dermis\", \"exocytosis\", \"acanthosis\", \"hyperkeratosis\", \"parakeratosis\",\n",
    "        \"clubbing_of_the_rete_ridges\", \"elongation_of_the_rete_ridges\", \"thinning_of_the_suprapapillary_epidermis\",\n",
    "        \"spongiform_pustule\", \"munro_microabcess\", \"focal_hypergranulosis\", \"disappearance_of_the_granular_layer\",\n",
    "        \"vacuolisation_and_damage_of_basal_layer\", \"spongiosis\", \"saw_tooth_appearance_of_retes\",\n",
    "        \"follicular_horn_plug\", \"perifollicular_parakeratosis\", \"inflammatory_monoluclear_inflitrate\",\n",
    "        \"band_like_infiltrate\", \"age\", \"class\"\n",
    "    ]\n",
    "\n",
    "    df = pd.read_csv(filepath, header=None, na_values='?')\n",
    "\n",
    "    df.columns = columns\n",
    "\n",
    "    df['age'] = pd.to_numeric(df['age'], errors='coerce')\n",
    "    median_age = df['age'].median()\n",
    "    df['age'].fillna(median_age, inplace=True)\n",
    "\n",
    "    for col in df.columns:\n",
    "        if df[col].isnull().any():\n",
    "            if col != 'age':\n",
    "                mode_value = df[col].mode()[0]\n",
    "                df[col].fillna(mode_value, inplace=True)\n",
    "                df[col] = df[col].astype(int)\n",
    "\n",
    "    feature_columns = [col for col in columns if col not in ['age', 'class']]\n",
    "    for col in feature_columns:\n",
    "         df[col] = pd.to_numeric(df[col], errors='coerce')\n",
    "         df[col] = df[col].astype(int)\n",
    "\n",
    "    df['class'] = df['class'].astype(int)\n",
    "\n",
    "    print(\"Data loading and cleaning complete.\")\n",
    "    print(\"DataFrame Info after cleaning:\")\n",
    "    df.info()\n",
    "    print(\"\\nMissing values after cleaning:\")\n",
    "    print(df.isnull().sum())\n",
    "\n",
    "    return df\n"
   ]
  },
  {
   "cell_type": "code",
   "execution_count": 4,
   "metadata": {},
   "outputs": [
    {
     "name": "stdout",
     "output_type": "stream",
     "text": [
      "Data loading and cleaning complete.\n",
      "DataFrame Info after cleaning:\n",
      "<class 'pandas.core.frame.DataFrame'>\n",
      "RangeIndex: 366 entries, 0 to 365\n",
      "Data columns (total 35 columns):\n",
      " #   Column                                    Non-Null Count  Dtype  \n",
      "---  ------                                    --------------  -----  \n",
      " 0   erythema                                  366 non-null    int64  \n",
      " 1   scaling                                   366 non-null    int64  \n",
      " 2   definite_borders                          366 non-null    int64  \n",
      " 3   itching                                   366 non-null    int64  \n",
      " 4   koebner_phenomenon                        366 non-null    int64  \n",
      " 5   polygonal_papules                         366 non-null    int64  \n",
      " 6   follicular_papules                        366 non-null    int64  \n",
      " 7   oral_mucosal_involvement                  366 non-null    int64  \n",
      " 8   knee_and_elbow_involvement                366 non-null    int64  \n",
      " 9   scalp_involvement                         366 non-null    int64  \n",
      " 10  family_history                            366 non-null    int64  \n",
      " 11  melanin_incontinence                      366 non-null    int64  \n",
      " 12  eosinophils_in_the_infiltrate             366 non-null    int64  \n",
      " 13  PNL_infiltrate                            366 non-null    int64  \n",
      " 14  fibrosis_of_the_papillary_dermis          366 non-null    int64  \n",
      " 15  exocytosis                                366 non-null    int64  \n",
      " 16  acanthosis                                366 non-null    int64  \n",
      " 17  hyperkeratosis                            366 non-null    int64  \n",
      " 18  parakeratosis                             366 non-null    int64  \n",
      " 19  clubbing_of_the_rete_ridges               366 non-null    int64  \n",
      " 20  elongation_of_the_rete_ridges             366 non-null    int64  \n",
      " 21  thinning_of_the_suprapapillary_epidermis  366 non-null    int64  \n",
      " 22  spongiform_pustule                        366 non-null    int64  \n",
      " 23  munro_microabcess                         366 non-null    int64  \n",
      " 24  focal_hypergranulosis                     366 non-null    int64  \n",
      " 25  disappearance_of_the_granular_layer       366 non-null    int64  \n",
      " 26  vacuolisation_and_damage_of_basal_layer   366 non-null    int64  \n",
      " 27  spongiosis                                366 non-null    int64  \n",
      " 28  saw_tooth_appearance_of_retes             366 non-null    int64  \n",
      " 29  follicular_horn_plug                      366 non-null    int64  \n",
      " 30  perifollicular_parakeratosis              366 non-null    int64  \n",
      " 31  inflammatory_monoluclear_inflitrate       366 non-null    int64  \n",
      " 32  band_like_infiltrate                      366 non-null    int64  \n",
      " 33  age                                       366 non-null    float64\n",
      " 34  class                                     366 non-null    int64  \n",
      "dtypes: float64(1), int64(34)\n",
      "memory usage: 100.2 KB\n",
      "\n",
      "Missing values after cleaning:\n",
      "erythema                                    0\n",
      "scaling                                     0\n",
      "definite_borders                            0\n",
      "itching                                     0\n",
      "koebner_phenomenon                          0\n",
      "polygonal_papules                           0\n",
      "follicular_papules                          0\n",
      "oral_mucosal_involvement                    0\n",
      "knee_and_elbow_involvement                  0\n",
      "scalp_involvement                           0\n",
      "family_history                              0\n",
      "melanin_incontinence                        0\n",
      "eosinophils_in_the_infiltrate               0\n",
      "PNL_infiltrate                              0\n",
      "fibrosis_of_the_papillary_dermis            0\n",
      "exocytosis                                  0\n",
      "acanthosis                                  0\n",
      "hyperkeratosis                              0\n",
      "parakeratosis                               0\n",
      "clubbing_of_the_rete_ridges                 0\n",
      "elongation_of_the_rete_ridges               0\n",
      "thinning_of_the_suprapapillary_epidermis    0\n",
      "spongiform_pustule                          0\n",
      "munro_microabcess                           0\n",
      "focal_hypergranulosis                       0\n",
      "disappearance_of_the_granular_layer         0\n",
      "vacuolisation_and_damage_of_basal_layer     0\n",
      "spongiosis                                  0\n",
      "saw_tooth_appearance_of_retes               0\n",
      "follicular_horn_plug                        0\n",
      "perifollicular_parakeratosis                0\n",
      "inflammatory_monoluclear_inflitrate         0\n",
      "band_like_infiltrate                        0\n",
      "age                                         0\n",
      "class                                       0\n",
      "dtype: int64\n"
     ]
    },
    {
     "name": "stderr",
     "output_type": "stream",
     "text": [
      "C:\\Users\\darkoob\\AppData\\Local\\Temp\\ipykernel_2996\\2972920256.py:23: FutureWarning: A value is trying to be set on a copy of a DataFrame or Series through chained assignment using an inplace method.\n",
      "The behavior will change in pandas 3.0. This inplace method will never work because the intermediate object on which we are setting values always behaves as a copy.\n",
      "\n",
      "For example, when doing 'df[col].method(value, inplace=True)', try using 'df.method({col: value}, inplace=True)' or df[col] = df[col].method(value) instead, to perform the operation inplace on the original object.\n",
      "\n",
      "\n",
      "  df['age'].fillna(median_age, inplace=True)\n"
     ]
    }
   ],
   "source": [
    "df = load_and_clean_dermatology_data('dermatology.data')"
   ]
  },
  {
   "cell_type": "markdown",
   "metadata": {},
   "source": [
    "### PreProcessing Pipeline"
   ]
  },
  {
   "cell_type": "code",
   "execution_count": 5,
   "metadata": {},
   "outputs": [
    {
     "name": "stdout",
     "output_type": "stream",
     "text": [
      "Original X shape: (366, 34)\n",
      "X_train shape: (292, 34)\n",
      "X_test shape: (74, 34)\n",
      "\n",
      "Shape of X_train_processed: (292, 34)\n",
      "Shape of X_test_processed: (74, 34)\n"
     ]
    }
   ],
   "source": [
    "from sklearn.model_selection import train_test_split\n",
    "from sklearn.pipeline import Pipeline\n",
    "from sklearn.preprocessing import StandardScaler\n",
    "from sklearn.compose import ColumnTransformer\n",
    "\n",
    "\n",
    "\n",
    "X = df.drop('class', axis=1)\n",
    "y = df['class']\n",
    "\n",
    "X_train, X_test, y_train, y_test = train_test_split(X, y, test_size=0.2, random_state=42)\n",
    "\n",
    "print(f\"Original X shape: {X.shape}\")\n",
    "print(f\"X_train shape: {X_train.shape}\")\n",
    "print(f\"X_test shape: {X_test.shape}\")\n",
    "\n",
    "feature_columns_for_scaling = X_train.columns.tolist()\n",
    "\n",
    "preprocessor = ColumnTransformer(\n",
    "    transformers=[\n",
    "        ('scaler', StandardScaler(), feature_columns_for_scaling)\n",
    "    ],\n",
    "    remainder='passthrough' # In case there are columns not specified (none here)\n",
    ")\n",
    "\n",
    "\n",
    "preprocessing_pipeline = Pipeline(steps=[('preprocessor', preprocessor)])\n",
    "\n",
    "preprocessing_pipeline.fit(X_train)\n",
    "\n",
    "\n",
    "X_train_processed = preprocessing_pipeline.transform(X_train)\n",
    "X_test_processed = preprocessing_pipeline.transform(X_test)\n",
    "\n",
    "print(\"\\nShape of X_train_processed:\", X_train_processed.shape)\n",
    "print(\"Shape of X_test_processed:\", X_test_processed.shape)\n",
    "\n"
   ]
  },
  {
   "cell_type": "markdown",
   "metadata": {},
   "source": [
    "### Pipeline with classifier\n",
    "we didn't have any missing data so no imputing\n"
   ]
  },
  {
   "cell_type": "code",
   "execution_count": 6,
   "metadata": {},
   "outputs": [
    {
     "name": "stdout",
     "output_type": "stream",
     "text": [
      "\n",
      "Shape of X_train: (292, 34)\n",
      "Shape of X_test: (74, 34)\n",
      "Model Accuracy: 0.9865\n"
     ]
    }
   ],
   "source": [
    "from sklearn.linear_model import LogisticRegression\n",
    "from sklearn.metrics import accuracy_score\n",
    "\n",
    "\n",
    "full_pipeline = Pipeline(steps=[\n",
    "    ('preprocessor', preprocessor),\n",
    "    ('classifier', LogisticRegression(solver='liblinear', random_state=42))\n",
    "])\n",
    "\n",
    "full_pipeline.fit(X_train, y_train)\n",
    "\n",
    "y_pred = full_pipeline.predict(X_test)\n",
    "\n",
    "accuracy = accuracy_score(y_test, y_pred)\n",
    "print(f\"\\nShape of X_train: {X_train.shape}\")\n",
    "print(f\"Shape of X_test: {X_test.shape}\")\n",
    "print(f\"Model Accuracy: {accuracy:.4f}\")\n"
   ]
  },
  {
   "cell_type": "markdown",
   "metadata": {},
   "source": [
    "### undersampling"
   ]
  },
  {
   "cell_type": "code",
   "execution_count": 7,
   "metadata": {},
   "outputs": [
    {
     "name": "stdout",
     "output_type": "stream",
     "text": [
      "Original training set shape: (292, 34)\n",
      "Original training set class distribution: Counter({1: 81, 3: 59, 2: 52, 5: 42, 4: 41, 6: 17})\n",
      "\n",
      "Resampled training set shape: (102, 34)\n",
      "Resampled training set class distribution: Counter({1: 17, 2: 17, 3: 17, 4: 17, 5: 17, 6: 17})\n"
     ]
    }
   ],
   "source": [
    "from collections import Counter\n",
    "from imblearn.under_sampling import RandomUnderSampler\n",
    "\n",
    "print(\"Original training set shape:\", X_train.shape)\n",
    "print(\"Original training set class distribution:\", Counter(y_train))\n",
    "\n",
    "rus = RandomUnderSampler(random_state=42)\n",
    "\n",
    "X_train_resampled, y_train_resampled = rus.fit_resample(X_train, y_train)\n",
    "\n",
    "print(\"\\nResampled training set shape:\", X_train_resampled.shape)\n",
    "print(\"Resampled training set class distribution:\", Counter(y_train_resampled))\n"
   ]
  },
  {
   "cell_type": "markdown",
   "metadata": {},
   "source": [
    "### OverSampling"
   ]
  },
  {
   "cell_type": "code",
   "execution_count": 9,
   "metadata": {},
   "outputs": [
    {
     "name": "stdout",
     "output_type": "stream",
     "text": [
      "Original training set shape: (292, 34)\n",
      "Original training set class distribution: Counter({1: 81, 3: 59, 2: 52, 5: 42, 4: 41, 6: 17})\n",
      "\n",
      "Resampled training set shape: (102, 34)\n",
      "Resampled training set class distribution: Counter({1: 17, 2: 17, 3: 17, 4: 17, 5: 17, 6: 17})\n"
     ]
    }
   ],
   "source": [
    "from collections import Counter\n",
    "from imblearn.over_sampling import RandomOverSampler\n",
    "\n",
    "print(\"Original training set shape:\", X_train.shape)\n",
    "print(\"Original training set class distribution:\", Counter(y_train))\n",
    "\n",
    "ros = RandomOverSampler(random_state=42)\n",
    "\n",
    "X_train_resampled, y_train_resampled = rus.fit_resample(X_train, y_train)\n",
    "\n",
    "print(\"\\nResampled training set shape:\", X_train_resampled.shape)\n",
    "print(\"Resampled training set class distribution:\", Counter(y_train_resampled))"
   ]
  },
  {
   "cell_type": "markdown",
   "metadata": {},
   "source": [
    "### SMOTE"
   ]
  },
  {
   "cell_type": "code",
   "execution_count": 10,
   "metadata": {},
   "outputs": [
    {
     "name": "stdout",
     "output_type": "stream",
     "text": [
      "\n",
      "--- SMOTE Oversampling ---\n",
      "Original training set shape: (292, 34)\n",
      "Original training set class distribution: Counter({1: 81, 3: 59, 2: 52, 5: 42, 4: 41, 6: 17})\n",
      "\n",
      "SMOTE resampled training set shape: (486, 34)\n",
      "SMOTE resampled training set class distribution: Counter({5: 81, 2: 81, 1: 81, 4: 81, 3: 81, 6: 81})\n"
     ]
    }
   ],
   "source": [
    "# Add after your existing oversampling sections:\n",
    "\n",
    "from imblearn.over_sampling import SMOTE\n",
    "\n",
    "print(\"\\n--- SMOTE Oversampling ---\")\n",
    "print(\"Original training set shape:\", X_train.shape)\n",
    "print(\"Original training set class distribution:\", Counter(y_train))\n",
    "\n",
    "# Initialize SMOTE\n",
    "smote = SMOTE(random_state=42)\n",
    "\n",
    "# Apply SMOTE to the training data\n",
    "X_train_smote, y_train_smote = smote.fit_resample(X_train, y_train)\n",
    "\n",
    "print(\"\\nSMOTE resampled training set shape:\", X_train_smote.shape)\n",
    "print(\"SMOTE resampled training set class distribution:\", Counter(y_train_smote))"
   ]
  },
  {
   "cell_type": "markdown",
   "metadata": {},
   "source": [
    "### Cost-Sensitive Learning with Class Weights\"  "
   ]
  },
  {
   "cell_type": "code",
   "execution_count": 11,
   "metadata": {},
   "outputs": [
    {
     "name": "stdout",
     "output_type": "stream",
     "text": [
      "\n",
      "--- Cost-Sensitive Learning with Sample Weights ---\n",
      "Original training set class distribution: Counter({1: 81, 3: 59, 2: 52, 5: 42, 4: 41, 6: 17})\n",
      "First 10 sample weights: [1.15873016 1.15873016 0.93589744 1.15873016 1.15873016 0.93589744\n",
      " 0.60082305 1.18699187 0.82485876 0.82485876]\n",
      "Average weight for class 1: 0.6008 (count: 81)\n",
      "Average weight for class 2: 0.9359 (count: 52)\n",
      "Average weight for class 3: 0.8249 (count: 59)\n",
      "Average weight for class 4: 1.1870 (count: 41)\n",
      "Average weight for class 5: 1.1587 (count: 42)\n",
      "Average weight for class 6: 2.8627 (count: 17)\n"
     ]
    }
   ],
   "source": [
    "\n",
    "print(\"\\n--- Cost-Sensitive Learning with Sample Weights ---\")\n",
    "print(\"Original training set class distribution:\", Counter(y_train))\n",
    "\n",
    "from sklearn.utils.class_weight import compute_sample_weight\n",
    "\n",
    "# Compute sample weights based on class frequencies\n",
    "# 'balanced' automatically assigns weights inversely proportional to class frequencies\n",
    "sample_weights = compute_sample_weight(\n",
    "    class_weight='balanced',\n",
    "    y=y_train,\n",
    ")\n",
    "\n",
    "# Print the first few sample weights\n",
    "print(\"First 10 sample weights:\", sample_weights[:10])\n",
    "\n",
    "# Display weight distribution by class\n",
    "for class_label in np.unique(y_train):\n",
    "    class_indices = np.where(y_train == class_label)[0]\n",
    "    avg_weight = np.mean(sample_weights[class_indices])\n",
    "    print(f\"Average weight for class {class_label}: {avg_weight:.4f} (count: {len(class_indices)})\")\n",
    "\n",
    "# These weights can be used in model.fit() with the sample_weight parameter\n",
    "# model.fit(X_train, y_train, sample_weight=sample_weights)"
   ]
  },
  {
   "cell_type": "markdown",
   "metadata": {},
   "source": [
    "### EXPLAINABLE AI"
   ]
  },
  {
   "cell_type": "code",
   "execution_count": null,
   "metadata": {},
   "outputs": [
    {
     "name": "stdout",
     "output_type": "stream",
     "text": [
      "Downloading data from https://storage.googleapis.com/tensorflow/tf-keras-datasets/mnist.npz\n",
      "\u001b[1m11490434/11490434\u001b[0m \u001b[32m━━━━━━━━━━━━━━━━━━━━\u001b[0m\u001b[37m\u001b[0m \u001b[1m1s\u001b[0m 0us/step\n"
     ]
    }
   ],
   "source": [
    "# 1. Load and preprocess MNIST dataset\n",
    "(x_train_full, y_train_full), _ = mnist.load_data()\n",
    "x_train_full = x_train_full.astype('float32') / 255.0\n",
    "x_train_full = np.expand_dims(x_train_full, -1)  # shape: (n_samples, 28, 28, 1)\n",
    "y_train_full = to_categorical(y_train_full, 10)  # one-hot encoding"
   ]
  },
  {
   "cell_type": "code",
   "execution_count": null,
   "metadata": {},
   "outputs": [
    {
     "name": "stdout",
     "output_type": "stream",
     "text": [
      "\n",
      "Training on Fold 1...\n"
     ]
    },
    {
     "name": "stderr",
     "output_type": "stream",
     "text": [
      "/usr/local/lib/python3.11/dist-packages/keras/src/layers/convolutional/base_conv.py:107: UserWarning: Do not pass an `input_shape`/`input_dim` argument to a layer. When using Sequential models, prefer using an `Input(shape)` object as the first layer in the model instead.\n",
      "  super().__init__(activity_regularizer=activity_regularizer, **kwargs)\n"
     ]
    },
    {
     "name": "stdout",
     "output_type": "stream",
     "text": [
      "Epoch 1/3\n",
      "\u001b[1m625/625\u001b[0m \u001b[32m━━━━━━━━━━━━━━━━━━━━\u001b[0m\u001b[37m\u001b[0m \u001b[1m46s\u001b[0m 69ms/step - accuracy: 0.8487 - loss: 0.5051 - val_accuracy: 0.9779 - val_loss: 0.0713\n",
      "Epoch 2/3\n",
      "\u001b[1m625/625\u001b[0m \u001b[32m━━━━━━━━━━━━━━━━━━━━\u001b[0m\u001b[37m\u001b[0m \u001b[1m42s\u001b[0m 67ms/step - accuracy: 0.9792 - loss: 0.0658 - val_accuracy: 0.9847 - val_loss: 0.0489\n",
      "Epoch 3/3\n",
      "\u001b[1m625/625\u001b[0m \u001b[32m━━━━━━━━━━━━━━━━━━━━\u001b[0m\u001b[37m\u001b[0m \u001b[1m86s\u001b[0m 73ms/step - accuracy: 0.9881 - loss: 0.0399 - val_accuracy: 0.9862 - val_loss: 0.0465\n",
      "Fold 1 Accuracy: 98.62%\n",
      "\n",
      "Training on Fold 2...\n",
      "Epoch 1/3\n",
      "\u001b[1m625/625\u001b[0m \u001b[32m━━━━━━━━━━━━━━━━━━━━\u001b[0m\u001b[37m\u001b[0m \u001b[1m44s\u001b[0m 68ms/step - accuracy: 0.8277 - loss: 0.5589 - val_accuracy: 0.9678 - val_loss: 0.1049\n",
      "Epoch 2/3\n",
      "\u001b[1m625/625\u001b[0m \u001b[32m━━━━━━━━━━━━━━━━━━━━\u001b[0m\u001b[37m\u001b[0m \u001b[1m81s\u001b[0m 66ms/step - accuracy: 0.9761 - loss: 0.0727 - val_accuracy: 0.9833 - val_loss: 0.0550\n",
      "Epoch 3/3\n",
      "\u001b[1m625/625\u001b[0m \u001b[32m━━━━━━━━━━━━━━━━━━━━\u001b[0m\u001b[37m\u001b[0m \u001b[1m83s\u001b[0m 67ms/step - accuracy: 0.9861 - loss: 0.0452 - val_accuracy: 0.9865 - val_loss: 0.0459\n",
      "Fold 2 Accuracy: 98.65%\n",
      "\n",
      "Training on Fold 3...\n",
      "Epoch 1/3\n",
      "\u001b[1m625/625\u001b[0m \u001b[32m━━━━━━━━━━━━━━━━━━━━\u001b[0m\u001b[37m\u001b[0m \u001b[1m46s\u001b[0m 70ms/step - accuracy: 0.8412 - loss: 0.5284 - val_accuracy: 0.9768 - val_loss: 0.0772\n",
      "Epoch 2/3\n",
      "\u001b[1m625/625\u001b[0m \u001b[32m━━━━━━━━━━━━━━━━━━━━\u001b[0m\u001b[37m\u001b[0m \u001b[1m86s\u001b[0m 77ms/step - accuracy: 0.9784 - loss: 0.0693 - val_accuracy: 0.9833 - val_loss: 0.0555\n",
      "Epoch 3/3\n",
      "\u001b[1m625/625\u001b[0m \u001b[32m━━━━━━━━━━━━━━━━━━━━\u001b[0m\u001b[37m\u001b[0m \u001b[1m75s\u001b[0m 66ms/step - accuracy: 0.9876 - loss: 0.0412 - val_accuracy: 0.9870 - val_loss: 0.0436\n",
      "Fold 3 Accuracy: 98.70%\n",
      "\n",
      "Average accuracy across 3 folds: 98.66%\n"
     ]
    }
   ],
   "source": [
    "import numpy as np\n",
    "import tensorflow as tf\n",
    "from tensorflow.keras import layers, models\n",
    "from sklearn.model_selection import KFold\n",
    "from tensorflow.keras.datasets import mnist\n",
    "from tensorflow.keras.utils import to_categorical\n",
    "\n",
    "# 1. Load and preprocess MNIST dataset\n",
    "(x_train_full, y_train_full), _ = mnist.load_data()\n",
    "x_train_full = x_train_full.astype('float32') / 255.0\n",
    "x_train_full = np.expand_dims(x_train_full, -1)  # shape: (n_samples, 28, 28, 1)\n",
    "y_train_full = to_categorical(y_train_full, 10)  # one-hot encoding\n",
    "\n",
    "# 2. Define a function to create the CNN model\n",
    "def create_model():\n",
    "    model = models.Sequential([\n",
    "        layers.Conv2D(32, (3, 3), activation='relu', input_shape=(28, 28, 1)),\n",
    "        layers.MaxPooling2D((2, 2)),\n",
    "\n",
    "        layers.Conv2D(64, (3, 3), activation='relu'),\n",
    "        layers.MaxPooling2D((2, 2)),\n",
    "\n",
    "        layers.Conv2D(64, (3, 3), activation='relu'),\n",
    "\n",
    "        layers.Flatten(),\n",
    "        layers.Dense(64, activation='relu'),\n",
    "        layers.Dense(10, activation='softmax'),\n",
    "    ])\n",
    "\n",
    "    model.compile(optimizer='adam',\n",
    "                  loss='categorical_crossentropy',\n",
    "                  metrics=['accuracy'])\n",
    "    return model\n",
    "\n",
    "# 3. Perform 3-fold cross-validation\n",
    "kf = KFold(n_splits=3, shuffle=True, random_state=42)\n",
    "fold_no = 1\n",
    "acc_per_fold = []\n",
    "\n",
    "for train_idx, val_idx in kf.split(x_train_full):\n",
    "    print(f\"\\nTraining on Fold {fold_no}...\")\n",
    "\n",
    "    x_train, x_val = x_train_full[train_idx], x_train_full[val_idx]\n",
    "    y_train, y_val = y_train_full[train_idx], y_train_full[val_idx]\n",
    "\n",
    "    model = create_model()\n",
    "    model.fit(x_train, y_train, epochs=3, batch_size=64, verbose=1,\n",
    "              validation_data=(x_val, y_val))\n",
    "\n",
    "    scores = model.evaluate(x_val, y_val, verbose=0)\n",
    "    print(f\"Fold {fold_no} Accuracy: {scores[1]*100:.2f}%\")\n",
    "    acc_per_fold.append(scores[1] * 100)\n",
    "\n",
    "    fold_no += 1\n",
    "\n",
    "# Print average accuracy\n",
    "print(f\"\\nAverage accuracy across 3 folds: {np.mean(acc_per_fold):.2f}%\")\n"
   ]
  },
  {
   "cell_type": "markdown",
   "metadata": {},
   "source": [
    "### SHAP"
   ]
  },
  {
   "cell_type": "code",
   "execution_count": null,
   "metadata": {},
   "outputs": [
    {
     "name": "stdout",
     "output_type": "stream",
     "text": [
      "\u001b[1m313/313\u001b[0m \u001b[32m━━━━━━━━━━━━━━━━━━━━\u001b[0m\u001b[37m\u001b[0m \u001b[1m3s\u001b[0m 11ms/step\n",
      "True label: 9, Predicted label: 5\n",
      "shap_values.shape = (1, 28, 28, 1, 10)\n"
     ]
    },
    {
     "data": {
      "image/png": "[encoded data removed]",
      "text/plain": [
       "<Figure size 1200x400 with 10 Axes>"
      ]
     },
     "metadata": {},
     "output_type": "display_data"
    },
    {
     "data": {
      "text/plain": [
       "<Figure size 640x480 with 0 Axes>"
      ]
     },
     "metadata": {},
     "output_type": "display_data"
    }
   ],
   "source": [
    "import shap\n",
    "\n",
    "(_, _), (x_test, y_test) = mnist.load_data()\n",
    "x_test = x_test.astype('float32') / 255.0\n",
    "x_test = np.expand_dims(x_test, axis=-1)  # Shape: (num_samples, 28, 28, 1)\n",
    "preds = model.predict(x_test)\n",
    "pred_labels = np.argmax(preds, axis=1)\n",
    "misclassified_indices = np.where(pred_labels != y_test)[0]\n",
    "\n",
    "if len(misclassified_indices) == 0:\n",
    "    print(\"No misclassified images found.\")\n",
    "    exit()\n",
    "\n",
    "idx = misclassified_indices[0]\n",
    "img = x_test[idx:idx+1]\n",
    "true_label = y_test[idx]\n",
    "pred_label = pred_labels[idx]\n",
    "\n",
    "print(f\"True label: {true_label}, Predicted label: {pred_label}\")\n",
    "\n",
    "# --- SHAP GradientExplainer setup ---\n",
    "# Use a small subset of test data as background for SHAP\n",
    "background = x_test[np.random.choice(x_test.shape[0], 100, replace=False)]\n",
    "\n",
    "explainer = shap.GradientExplainer(model, background)\n",
    "\n",
    "# --- Compute SHAP values for the misclassified image ---\n",
    "shap_values = explainer.shap_values(img)\n",
    "print(f\"shap_values.shape = {np.array(shap_values).shape}\")\n",
    "\n",
    "# --- Visualize SHAP values ---\n",
    "# Plot SHAP heatmaps for each class (we care about the predicted class most)\n",
    "plt.figure(figsize=(12, 4))\n",
    "\n",
    "for i in range(10):\n",
    "    plt.subplot(2, 5, i + 1)\n",
    "    shap_img = shap_values[0, :, :, 0, i]  # Extract 2D SHAP map for class i\n",
    "\n",
    "    plt.imshow(shap_img, cmap='seismic',\n",
    "               vmin=-np.max(np.abs(shap_img)),\n",
    "               vmax=np.max(np.abs(shap_img)))\n",
    "    plt.title(f\"Class {i}\")\n",
    "    plt.axis('off')\n",
    "\n",
    "plt.suptitle(f\"SHAP (True: {true_label}, Pred: {pred_label})\", fontsize=14)\n",
    "plt.tight_layout()\n",
    "plt.show()\n",
    "\n",
    "\n",
    "plt.suptitle(f\"SHAP explanations for misclassified digit (True: {true_label}, Pred: {pred_label})\", fontsize=14)\n",
    "plt.tight_layout()\n",
    "plt.show()\n"
   ]
  },
  {
   "cell_type": "markdown",
   "metadata": {},
   "source": [
    "### LIME"
   ]
  },
  {
   "cell_type": "code",
   "execution_count": null,
   "metadata": {},
   "outputs": [
    {
     "name": "stdout",
     "output_type": "stream",
     "text": [
      "\u001b[1m313/313\u001b[0m \u001b[32m━━━━━━━━━━━━━━━━━━━━\u001b[0m\u001b[37m\u001b[0m \u001b[1m4s\u001b[0m 12ms/step\n",
      "True label: 9, Predicted label: 5\n"
     ]
    },
    {
     "data": {
      "application/vnd.jupyter.widget-view+json": {
       "model_id": "f12f2d4442c145e48d0f09fc53e408eb",
       "version_major": 2,
       "version_minor": 0
      },
      "text/plain": [
       "  0%|          | 0/1000 [00:00<?, ?it/s]"
      ]
     },
     "metadata": {},
     "output_type": "display_data"
    },
    {
     "name": "stdout",
     "output_type": "stream",
     "text": [
      "\u001b[1m1/1\u001b[0m \u001b[32m━━━━━━━━━━━━━━━━━━━━\u001b[0m\u001b[37m\u001b[0m \u001b[1m0s\u001b[0m 45ms/step\n",
      "\u001b[1m1/1\u001b[0m \u001b[32m━━━━━━━━━━━━━━━━━━━━\u001b[0m\u001b[37m\u001b[0m \u001b[1m0s\u001b[0m 43ms/step\n",
      "\u001b[1m1/1\u001b[0m \u001b[32m━━━━━━━━━━━━━━━━━━━━\u001b[0m\u001b[37m\u001b[0m \u001b[1m0s\u001b[0m 56ms/step\n",
      "\u001b[1m1/1\u001b[0m \u001b[32m━━━━━━━━━━━━━━━━━━━━\u001b[0m\u001b[37m\u001b[0m \u001b[1m0s\u001b[0m 50ms/step\n",
      "\u001b[1m1/1\u001b[0m \u001b[32m━━━━━━━━━━━━━━━━━━━━\u001b[0m\u001b[37m\u001b[0m \u001b[1m0s\u001b[0m 61ms/step\n",
      "\u001b[1m1/1\u001b[0m \u001b[32m━━━━━━━━━━━━━━━━━━━━\u001b[0m\u001b[37m\u001b[0m \u001b[1m0s\u001b[0m 54ms/step\n",
      "\u001b[1m1/1\u001b[0m \u001b[32m━━━━━━━━━━━━━━━━━━━━\u001b[0m\u001b[37m\u001b[0m \u001b[1m0s\u001b[0m 50ms/step\n",
      "\u001b[1m1/1\u001b[0m \u001b[32m━━━━━━━━━━━━━━━━━━━━\u001b[0m\u001b[37m\u001b[0m \u001b[1m0s\u001b[0m 58ms/step\n",
      "\u001b[1m1/1\u001b[0m \u001b[32m━━━━━━━━━━━━━━━━━━━━\u001b[0m\u001b[37m\u001b[0m \u001b[1m0s\u001b[0m 55ms/step\n",
      "\u001b[1m1/1\u001b[0m \u001b[32m━━━━━━━━━━━━━━━━━━━━\u001b[0m\u001b[37m\u001b[0m \u001b[1m0s\u001b[0m 68ms/step\n",
      "\u001b[1m1/1\u001b[0m \u001b[32m━━━━━━━━━━━━━━━━━━━━\u001b[0m\u001b[37m\u001b[0m \u001b[1m0s\u001b[0m 44ms/step\n",
      "\u001b[1m1/1\u001b[0m \u001b[32m━━━━━━━━━━━━━━━━━━━━\u001b[0m\u001b[37m\u001b[0m \u001b[1m0s\u001b[0m 49ms/step\n",
      "\u001b[1m1/1\u001b[0m \u001b[32m━━━━━━━━━━━━━━━━━━━━\u001b[0m\u001b[37m\u001b[0m \u001b[1m0s\u001b[0m 50ms/step\n",
      "\u001b[1m1/1\u001b[0m \u001b[32m━━━━━━━━━━━━━━━━━━━━\u001b[0m\u001b[37m\u001b[0m \u001b[1m0s\u001b[0m 41ms/step\n",
      "\u001b[1m1/1\u001b[0m \u001b[32m━━━━━━━━━━━━━━━━━━━━\u001b[0m\u001b[37m\u001b[0m \u001b[1m0s\u001b[0m 48ms/step\n",
      "\u001b[1m1/1\u001b[0m \u001b[32m━━━━━━━━━━━━━━━━━━━━\u001b[0m\u001b[37m\u001b[0m \u001b[1m0s\u001b[0m 49ms/step\n",
      "\u001b[1m1/1\u001b[0m \u001b[32m━━━━━━━━━━━━━━━━━━━━\u001b[0m\u001b[37m\u001b[0m \u001b[1m0s\u001b[0m 48ms/step\n",
      "\u001b[1m1/1\u001b[0m \u001b[32m━━━━━━━━━━━━━━━━━━━━\u001b[0m\u001b[37m\u001b[0m \u001b[1m0s\u001b[0m 53ms/step\n",
      "\u001b[1m1/1\u001b[0m \u001b[32m━━━━━━━━━━━━━━━━━━━━\u001b[0m\u001b[37m\u001b[0m \u001b[1m0s\u001b[0m 54ms/step\n",
      "\u001b[1m1/1\u001b[0m \u001b[32m━━━━━━━━━━━━━━━━━━━━\u001b[0m\u001b[37m\u001b[0m \u001b[1m0s\u001b[0m 55ms/step\n",
      "\u001b[1m1/1\u001b[0m \u001b[32m━━━━━━━━━━━━━━━━━━━━\u001b[0m\u001b[37m\u001b[0m \u001b[1m0s\u001b[0m 48ms/step\n",
      "\u001b[1m1/1\u001b[0m \u001b[32m━━━━━━━━━━━━━━━━━━━━\u001b[0m\u001b[37m\u001b[0m \u001b[1m0s\u001b[0m 46ms/step\n",
      "\u001b[1m1/1\u001b[0m \u001b[32m━━━━━━━━━━━━━━━━━━━━\u001b[0m\u001b[37m\u001b[0m \u001b[1m0s\u001b[0m 46ms/step\n",
      "\u001b[1m1/1\u001b[0m \u001b[32m━━━━━━━━━━━━━━━━━━━━\u001b[0m\u001b[37m\u001b[0m \u001b[1m0s\u001b[0m 55ms/step\n",
      "\u001b[1m1/1\u001b[0m \u001b[32m━━━━━━━━━━━━━━━━━━━━\u001b[0m\u001b[37m\u001b[0m \u001b[1m0s\u001b[0m 48ms/step\n",
      "\u001b[1m1/1\u001b[0m \u001b[32m━━━━━━━━━━━━━━━━━━━━\u001b[0m\u001b[37m\u001b[0m \u001b[1m0s\u001b[0m 54ms/step\n",
      "\u001b[1m1/1\u001b[0m \u001b[32m━━━━━━━━━━━━━━━━━━━━\u001b[0m\u001b[37m\u001b[0m \u001b[1m0s\u001b[0m 43ms/step\n",
      "\u001b[1m1/1\u001b[0m \u001b[32m━━━━━━━━━━━━━━━━━━━━\u001b[0m\u001b[37m\u001b[0m \u001b[1m0s\u001b[0m 53ms/step\n",
      "\u001b[1m1/1\u001b[0m \u001b[32m━━━━━━━━━━━━━━━━━━━━\u001b[0m\u001b[37m\u001b[0m \u001b[1m0s\u001b[0m 52ms/step\n",
      "\u001b[1m1/1\u001b[0m \u001b[32m━━━━━━━━━━━━━━━━━━━━\u001b[0m\u001b[37m\u001b[0m \u001b[1m0s\u001b[0m 52ms/step\n",
      "\u001b[1m1/1\u001b[0m \u001b[32m━━━━━━━━━━━━━━━━━━━━\u001b[0m\u001b[37m\u001b[0m \u001b[1m0s\u001b[0m 64ms/step\n",
      "\u001b[1m1/1\u001b[0m \u001b[32m━━━━━━━━━━━━━━━━━━━━\u001b[0m\u001b[37m\u001b[0m \u001b[1m0s\u001b[0m 52ms/step\n",
      "\u001b[1m1/1\u001b[0m \u001b[32m━━━━━━━━━━━━━━━━━━━━\u001b[0m\u001b[37m\u001b[0m \u001b[1m0s\u001b[0m 48ms/step\n",
      "\u001b[1m1/1\u001b[0m \u001b[32m━━━━━━━━━━━━━━━━━━━━\u001b[0m\u001b[37m\u001b[0m \u001b[1m0s\u001b[0m 61ms/step\n",
      "\u001b[1m1/1\u001b[0m \u001b[32m━━━━━━━━━━━━━━━━━━━━\u001b[0m\u001b[37m\u001b[0m \u001b[1m0s\u001b[0m 58ms/step\n",
      "\u001b[1m1/1\u001b[0m \u001b[32m━━━━━━━━━━━━━━━━━━━━\u001b[0m\u001b[37m\u001b[0m \u001b[1m0s\u001b[0m 63ms/step\n",
      "\u001b[1m1/1\u001b[0m \u001b[32m━━━━━━━━━━━━━━━━━━━━\u001b[0m\u001b[37m\u001b[0m \u001b[1m0s\u001b[0m 45ms/step\n",
      "\u001b[1m1/1\u001b[0m \u001b[32m━━━━━━━━━━━━━━━━━━━━\u001b[0m\u001b[37m\u001b[0m \u001b[1m0s\u001b[0m 63ms/step\n",
      "\u001b[1m1/1\u001b[0m \u001b[32m━━━━━━━━━━━━━━━━━━━━\u001b[0m\u001b[37m\u001b[0m \u001b[1m0s\u001b[0m 47ms/step\n",
      "\u001b[1m1/1\u001b[0m \u001b[32m━━━━━━━━━━━━━━━━━━━━\u001b[0m\u001b[37m\u001b[0m \u001b[1m0s\u001b[0m 57ms/step\n",
      "\u001b[1m1/1\u001b[0m \u001b[32m━━━━━━━━━━━━━━━━━━━━\u001b[0m\u001b[37m\u001b[0m \u001b[1m0s\u001b[0m 56ms/step\n",
      "\u001b[1m1/1\u001b[0m \u001b[32m━━━━━━━━━━━━━━━━━━━━\u001b[0m\u001b[37m\u001b[0m \u001b[1m0s\u001b[0m 64ms/step\n",
      "\u001b[1m1/1\u001b[0m \u001b[32m━━━━━━━━━━━━━━━━━━━━\u001b[0m\u001b[37m\u001b[0m \u001b[1m0s\u001b[0m 53ms/step\n",
      "\u001b[1m1/1\u001b[0m \u001b[32m━━━━━━━━━━━━━━━━━━━━\u001b[0m\u001b[37m\u001b[0m \u001b[1m0s\u001b[0m 44ms/step\n",
      "\u001b[1m1/1\u001b[0m \u001b[32m━━━━━━━━━━━━━━━━━━━━\u001b[0m\u001b[37m\u001b[0m \u001b[1m0s\u001b[0m 47ms/step\n",
      "\u001b[1m1/1\u001b[0m \u001b[32m━━━━━━━━━━━━━━━━━━━━\u001b[0m\u001b[37m\u001b[0m \u001b[1m0s\u001b[0m 66ms/step\n",
      "\u001b[1m1/1\u001b[0m \u001b[32m━━━━━━━━━━━━━━━━━━━━\u001b[0m\u001b[37m\u001b[0m \u001b[1m0s\u001b[0m 53ms/step\n",
      "\u001b[1m1/1\u001b[0m \u001b[32m━━━━━━━━━━━━━━━━━━━━\u001b[0m\u001b[37m\u001b[0m \u001b[1m0s\u001b[0m 46ms/step\n",
      "\u001b[1m1/1\u001b[0m \u001b[32m━━━━━━━━━━━━━━━━━━━━\u001b[0m\u001b[37m\u001b[0m \u001b[1m0s\u001b[0m 51ms/step\n",
      "\u001b[1m1/1\u001b[0m \u001b[32m━━━━━━━━━━━━━━━━━━━━\u001b[0m\u001b[37m\u001b[0m \u001b[1m0s\u001b[0m 47ms/step\n",
      "\u001b[1m1/1\u001b[0m \u001b[32m━━━━━━━━━━━━━━━━━━━━\u001b[0m\u001b[37m\u001b[0m \u001b[1m0s\u001b[0m 45ms/step\n",
      "\u001b[1m1/1\u001b[0m \u001b[32m━━━━━━━━━━━━━━━━━━━━\u001b[0m\u001b[37m\u001b[0m \u001b[1m0s\u001b[0m 41ms/step\n",
      "\u001b[1m1/1\u001b[0m \u001b[32m━━━━━━━━━━━━━━━━━━━━\u001b[0m\u001b[37m\u001b[0m \u001b[1m0s\u001b[0m 49ms/step\n",
      "\u001b[1m1/1\u001b[0m \u001b[32m━━━━━━━━━━━━━━━━━━━━\u001b[0m\u001b[37m\u001b[0m \u001b[1m0s\u001b[0m 65ms/step\n",
      "\u001b[1m1/1\u001b[0m \u001b[32m━━━━━━━━━━━━━━━━━━━━\u001b[0m\u001b[37m\u001b[0m \u001b[1m0s\u001b[0m 43ms/step\n",
      "\u001b[1m1/1\u001b[0m \u001b[32m━━━━━━━━━━━━━━━━━━━━\u001b[0m\u001b[37m\u001b[0m \u001b[1m0s\u001b[0m 47ms/step\n",
      "\u001b[1m1/1\u001b[0m \u001b[32m━━━━━━━━━━━━━━━━━━━━\u001b[0m\u001b[37m\u001b[0m \u001b[1m0s\u001b[0m 46ms/step\n",
      "\u001b[1m1/1\u001b[0m \u001b[32m━━━━━━━━━━━━━━━━━━━━\u001b[0m\u001b[37m\u001b[0m \u001b[1m0s\u001b[0m 66ms/step\n",
      "\u001b[1m1/1\u001b[0m \u001b[32m━━━━━━━━━━━━━━━━━━━━\u001b[0m\u001b[37m\u001b[0m \u001b[1m0s\u001b[0m 64ms/step\n",
      "\u001b[1m1/1\u001b[0m \u001b[32m━━━━━━━━━━━━━━━━━━━━\u001b[0m\u001b[37m\u001b[0m \u001b[1m0s\u001b[0m 72ms/step\n",
      "\u001b[1m1/1\u001b[0m \u001b[32m━━━━━━━━━━━━━━━━━━━━\u001b[0m\u001b[37m\u001b[0m \u001b[1m0s\u001b[0m 146ms/step\n",
      "\u001b[1m1/1\u001b[0m \u001b[32m━━━━━━━━━━━━━━━━━━━━\u001b[0m\u001b[37m\u001b[0m \u001b[1m0s\u001b[0m 65ms/step\n",
      "\u001b[1m1/1\u001b[0m \u001b[32m━━━━━━━━━━━━━━━━━━━━\u001b[0m\u001b[37m\u001b[0m \u001b[1m0s\u001b[0m 77ms/step\n",
      "\u001b[1m1/1\u001b[0m \u001b[32m━━━━━━━━━━━━━━━━━━━━\u001b[0m\u001b[37m\u001b[0m \u001b[1m0s\u001b[0m 72ms/step\n",
      "\u001b[1m1/1\u001b[0m \u001b[32m━━━━━━━━━━━━━━━━━━━━\u001b[0m\u001b[37m\u001b[0m \u001b[1m0s\u001b[0m 70ms/step\n",
      "\u001b[1m1/1\u001b[0m \u001b[32m━━━━━━━━━━━━━━━━━━━━\u001b[0m\u001b[37m\u001b[0m \u001b[1m0s\u001b[0m 73ms/step\n",
      "\u001b[1m1/1\u001b[0m \u001b[32m━━━━━━━━━━━━━━━━━━━━\u001b[0m\u001b[37m\u001b[0m \u001b[1m0s\u001b[0m 93ms/step\n",
      "\u001b[1m1/1\u001b[0m \u001b[32m━━━━━━━━━━━━━━━━━━━━\u001b[0m\u001b[37m\u001b[0m \u001b[1m0s\u001b[0m 65ms/step\n",
      "\u001b[1m1/1\u001b[0m \u001b[32m━━━━━━━━━━━━━━━━━━━━\u001b[0m\u001b[37m\u001b[0m \u001b[1m0s\u001b[0m 69ms/step\n",
      "\u001b[1m1/1\u001b[0m \u001b[32m━━━━━━━━━━━━━━━━━━━━\u001b[0m\u001b[37m\u001b[0m \u001b[1m0s\u001b[0m 70ms/step\n",
      "\u001b[1m1/1\u001b[0m \u001b[32m━━━━━━━━━━━━━━━━━━━━\u001b[0m\u001b[37m\u001b[0m \u001b[1m0s\u001b[0m 74ms/step\n",
      "\u001b[1m1/1\u001b[0m \u001b[32m━━━━━━━━━━━━━━━━━━━━\u001b[0m\u001b[37m\u001b[0m \u001b[1m0s\u001b[0m 75ms/step\n",
      "\u001b[1m1/1\u001b[0m \u001b[32m━━━━━━━━━━━━━━━━━━━━\u001b[0m\u001b[37m\u001b[0m \u001b[1m0s\u001b[0m 62ms/step\n",
      "\u001b[1m1/1\u001b[0m \u001b[32m━━━━━━━━━━━━━━━━━━━━\u001b[0m\u001b[37m\u001b[0m \u001b[1m0s\u001b[0m 47ms/step\n",
      "\u001b[1m1/1\u001b[0m \u001b[32m━━━━━━━━━━━━━━━━━━━━\u001b[0m\u001b[37m\u001b[0m \u001b[1m0s\u001b[0m 41ms/step\n",
      "\u001b[1m1/1\u001b[0m \u001b[32m━━━━━━━━━━━━━━━━━━━━\u001b[0m\u001b[37m\u001b[0m \u001b[1m0s\u001b[0m 55ms/step\n",
      "\u001b[1m1/1\u001b[0m \u001b[32m━━━━━━━━━━━━━━━━━━━━\u001b[0m\u001b[37m\u001b[0m \u001b[1m0s\u001b[0m 44ms/step\n",
      "\u001b[1m1/1\u001b[0m \u001b[32m━━━━━━━━━━━━━━━━━━━━\u001b[0m\u001b[37m\u001b[0m \u001b[1m0s\u001b[0m 44ms/step\n",
      "\u001b[1m1/1\u001b[0m \u001b[32m━━━━━━━━━━━━━━━━━━━━\u001b[0m\u001b[37m\u001b[0m \u001b[1m0s\u001b[0m 49ms/step\n",
      "\u001b[1m1/1\u001b[0m \u001b[32m━━━━━━━━━━━━━━━━━━━━\u001b[0m\u001b[37m\u001b[0m \u001b[1m0s\u001b[0m 56ms/step\n",
      "\u001b[1m1/1\u001b[0m \u001b[32m━━━━━━━━━━━━━━━━━━━━\u001b[0m\u001b[37m\u001b[0m \u001b[1m0s\u001b[0m 50ms/step\n",
      "\u001b[1m1/1\u001b[0m \u001b[32m━━━━━━━━━━━━━━━━━━━━\u001b[0m\u001b[37m\u001b[0m \u001b[1m0s\u001b[0m 48ms/step\n",
      "\u001b[1m1/1\u001b[0m \u001b[32m━━━━━━━━━━━━━━━━━━━━\u001b[0m\u001b[37m\u001b[0m \u001b[1m0s\u001b[0m 49ms/step\n",
      "\u001b[1m1/1\u001b[0m \u001b[32m━━━━━━━━━━━━━━━━━━━━\u001b[0m\u001b[37m\u001b[0m \u001b[1m0s\u001b[0m 46ms/step\n",
      "\u001b[1m1/1\u001b[0m \u001b[32m━━━━━━━━━━━━━━━━━━━━\u001b[0m\u001b[37m\u001b[0m \u001b[1m0s\u001b[0m 43ms/step\n",
      "\u001b[1m1/1\u001b[0m \u001b[32m━━━━━━━━━━━━━━━━━━━━\u001b[0m\u001b[37m\u001b[0m \u001b[1m0s\u001b[0m 43ms/step\n",
      "\u001b[1m1/1\u001b[0m \u001b[32m━━━━━━━━━━━━━━━━━━━━\u001b[0m\u001b[37m\u001b[0m \u001b[1m0s\u001b[0m 67ms/step\n",
      "\u001b[1m1/1\u001b[0m \u001b[32m━━━━━━━━━━━━━━━━━━━━\u001b[0m\u001b[37m\u001b[0m \u001b[1m0s\u001b[0m 61ms/step\n",
      "\u001b[1m1/1\u001b[0m \u001b[32m━━━━━━━━━━━━━━━━━━━━\u001b[0m\u001b[37m\u001b[0m \u001b[1m0s\u001b[0m 66ms/step\n",
      "\u001b[1m1/1\u001b[0m \u001b[32m━━━━━━━━━━━━━━━━━━━━\u001b[0m\u001b[37m\u001b[0m \u001b[1m0s\u001b[0m 60ms/step\n",
      "\u001b[1m1/1\u001b[0m \u001b[32m━━━━━━━━━━━━━━━━━━━━\u001b[0m\u001b[37m\u001b[0m \u001b[1m0s\u001b[0m 55ms/step\n",
      "\u001b[1m1/1\u001b[0m \u001b[32m━━━━━━━━━━━━━━━━━━━━\u001b[0m\u001b[37m\u001b[0m \u001b[1m0s\u001b[0m 48ms/step\n",
      "\u001b[1m1/1\u001b[0m \u001b[32m━━━━━━━━━━━━━━━━━━━━\u001b[0m\u001b[37m\u001b[0m \u001b[1m0s\u001b[0m 49ms/step\n",
      "\u001b[1m1/1\u001b[0m \u001b[32m━━━━━━━━━━━━━━━━━━━━\u001b[0m\u001b[37m\u001b[0m \u001b[1m0s\u001b[0m 54ms/step\n",
      "\u001b[1m1/1\u001b[0m \u001b[32m━━━━━━━━━━━━━━━━━━━━\u001b[0m\u001b[37m\u001b[0m \u001b[1m0s\u001b[0m 45ms/step\n",
      "\u001b[1m1/1\u001b[0m \u001b[32m━━━━━━━━━━━━━━━━━━━━\u001b[0m\u001b[37m\u001b[0m \u001b[1m0s\u001b[0m 63ms/step\n",
      "\u001b[1m1/1\u001b[0m \u001b[32m━━━━━━━━━━━━━━━━━━━━\u001b[0m\u001b[37m\u001b[0m \u001b[1m0s\u001b[0m 45ms/step\n",
      "\u001b[1m1/1\u001b[0m \u001b[32m━━━━━━━━━━━━━━━━━━━━\u001b[0m\u001b[37m\u001b[0m \u001b[1m0s\u001b[0m 50ms/step\n",
      "\u001b[1m1/1\u001b[0m \u001b[32m━━━━━━━━━━━━━━━━━━━━\u001b[0m\u001b[37m\u001b[0m \u001b[1m0s\u001b[0m 55ms/step\n",
      "\u001b[1m1/1\u001b[0m \u001b[32m━━━━━━━━━━━━━━━━━━━━\u001b[0m\u001b[37m\u001b[0m \u001b[1m0s\u001b[0m 52ms/step\n"
     ]
    },
    {
     "data": {
      "image/png": "[encoded data removed]",
      "text/plain": [
       "<Figure size 600x600 with 1 Axes>"
      ]
     },
     "metadata": {},
     "output_type": "display_data"
    }
   ],
   "source": [
    "from lime import lime_image\n",
    "from skimage.color import gray2rgb\n",
    "from skimage.segmentation import mark_boundaries\n",
    "\n",
    "# --- Load test data ---\n",
    "(_, _), (x_test, y_test) = mnist.load_data()\n",
    "x_test = x_test.astype('float32') / 255.0\n",
    "x_test = np.expand_dims(x_test, axis=-1)\n",
    "\n",
    "# --- Find a misclassified example ---\n",
    "preds = model.predict(x_test)\n",
    "pred_labels = np.argmax(preds, axis=1)\n",
    "misclassified_indices = np.where(pred_labels != y_test)[0]\n",
    "\n",
    "if len(misclassified_indices) == 0:\n",
    "    print(\"No misclassified examples found.\")\n",
    "    exit()\n",
    "\n",
    "idx = misclassified_indices[0]\n",
    "img = x_test[idx]\n",
    "true_label = y_test[idx]\n",
    "pred_label = pred_labels[idx]\n",
    "\n",
    "print(f\"True label: {true_label}, Predicted label: {pred_label}\")\n",
    "\n",
    "# --- Prepare image for LIME (RGB) ---\n",
    "img_rgb = gray2rgb(np.squeeze(img))  # Shape: (28, 28, 3)\n",
    "\n",
    "# --- LIME explainer setup ---\n",
    "explainer = lime_image.LimeImageExplainer()\n",
    "\n",
    "# LIME expects a function that outputs probabilities\n",
    "def predict_fn(images):\n",
    "    # Convert RGB to grayscale and add channel\n",
    "    images = np.mean(images, axis=-1, keepdims=True)\n",
    "    return model.predict(images)\n",
    "\n",
    "# --- Explain prediction ---\n",
    "explanation = explainer.explain_instance(\n",
    "    img_rgb,\n",
    "    predict_fn,\n",
    "    top_labels=1,\n",
    "    hide_color=0,\n",
    "    num_samples=1000\n",
    ")\n",
    "\n",
    "# --- Get image and mask for the predicted class ---\n",
    "temp, mask = explanation.get_image_and_mask(\n",
    "    label=pred_label,\n",
    "    positive_only=False,\n",
    "    hide_rest=False,\n",
    "    num_features=10,\n",
    "    min_weight=0.0\n",
    ")\n",
    "\n",
    "# --- Visualize ---\n",
    "plt.figure(figsize=(6, 6))\n",
    "plt.imshow(mark_boundaries(temp / 255.0, mask))\n",
    "plt.title(f\"LIME Explanation (Pred: {pred_label}, True: {true_label})\")\n",
    "plt.axis('off')\n",
    "plt.show()"
   ]
  }
 ],
 "metadata": {
  "kernelspec": {
   "display_name": "Python 3",
   "language": "python",
   "name": "python3"
  },
  "language_info": {
   "codemirror_mode": {
    "name": "ipython",
    "version": 3
   },
   "file_extension": ".py",
   "mimetype": "text/x-python",
   "name": "python",
   "nbconvert_exporter": "python",
   "pygments_lexer": "ipython3",
   "version": "3.11.4"
  }
 },
 "nbformat": 4,
 "nbformat_minor": 2
}
